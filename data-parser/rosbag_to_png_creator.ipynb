{
 "cells": [
  {
   "cell_type": "code",
   "execution_count": 1,
   "id": "31b9e5d2",
   "metadata": {},
   "outputs": [],
   "source": [
    "# We needed to skip parsing the data first as I was limited with my poor computer RAM \n",
    "from adaptor_helper import SaveColorImageAsPng\n",
    "import rosbag\n",
    "\n",
    "import logging\n",
    "logger = logging.getLogger()\n",
    "logger.setLevel(logging.DEBUG)"
   ]
  },
  {
   "cell_type": "code",
   "execution_count": 2,
   "id": "7b9a36b9",
   "metadata": {},
   "outputs": [],
   "source": [
    "%load_ext autoreload\n",
    "%autoreload 2\n",
    "\n",
    "%reload_ext autoreload"
   ]
  },
  {
   "cell_type": "markdown",
   "id": "a59326b2-d170-42c8-81a1-3ded3bc036a7",
   "metadata": {},
   "source": [
    "# Using ROSBAG1 Parser"
   ]
  },
  {
   "cell_type": "code",
   "execution_count": 3,
   "id": "e3a2ae0e",
   "metadata": {},
   "outputs": [
    {
     "name": "stderr",
     "output_type": "stream",
     "text": [
      "INFO:root:Loaded the data!\n"
     ]
    },
    {
     "name": "stdout",
     "output_type": "stream",
     "text": [
      "{'/color/video/camera_info': TopicTuple(msg_type='sensor_msgs/CameraInfo', message_count=22151, connections=1, frequency=30.241641611328618), '/color/video/image': TopicTuple(msg_type='sensor_msgs/Image', message_count=6371, connections=1, frequency=18.97321370007396), '/points': TopicTuple(msg_type='sensor_msgs/PointCloud2', message_count=11225, connections=1, frequency=19.47329348267657), '/stereo/camera_info': TopicTuple(msg_type='sensor_msgs/CameraInfo', message_count=686, connections=1, frequency=0.8607539033817337), '/stereo/depth': TopicTuple(msg_type='sensor_msgs/Image', message_count=4863, connections=1, frequency=6.140641836495666), '/vn100_imu': TopicTuple(msg_type='sensor_msgs/Imu', message_count=6575, connections=1, frequency=8.010228821174195)}\n"
     ]
    },
    {
     "name": "stderr",
     "output_type": "stream",
     "text": [
      "100%|███████████████████████████████████████████████████████████████████████████████| 1061/1061 [01:14<00:00, 14.17it/s]\n"
     ]
    },
    {
     "ename": "NameError",
     "evalue": "name 'logging' is not defined",
     "output_type": "error",
     "traceback": [
      "\u001b[0;31m---------------------------------------------------------------------------\u001b[0m",
      "\u001b[0;31mNameError\u001b[0m                                 Traceback (most recent call last)",
      "Input \u001b[0;32mIn [3]\u001b[0m, in \u001b[0;36m<cell line: 14>\u001b[0;34m()\u001b[0m\n\u001b[1;32m     11\u001b[0m _, camera_info, camera_info_t \u001b[38;5;241m=\u001b[39m \u001b[38;5;28mnext\u001b[39m(color_camera_info_messages)\n\u001b[1;32m     13\u001b[0m logging\u001b[38;5;241m.\u001b[39minfo(\u001b[38;5;124m'\u001b[39m\u001b[38;5;124mLoaded the data!\u001b[39m\u001b[38;5;124m'\u001b[39m)\n\u001b[0;32m---> 14\u001b[0m image_data \u001b[38;5;241m=\u001b[39m \u001b[43mSaveColorImageAsPng\u001b[49m\u001b[43m(\u001b[49m\u001b[43mcolor_image_messages\u001b[49m\u001b[43m,\u001b[49m\u001b[43m \u001b[49m\u001b[38;5;28;43mint\u001b[39;49m\u001b[43m(\u001b[49m\u001b[43mn_images\u001b[49m\u001b[38;5;241;43m*\u001b[39;49m\u001b[38;5;241;43m1\u001b[39;49m\u001b[38;5;241;43m/\u001b[39;49m\u001b[38;5;241;43m6\u001b[39;49m\u001b[43m)\u001b[49m\u001b[43m,\u001b[49m\u001b[43m \u001b[49m\u001b[43mimage_downsample_rate\u001b[49m\u001b[43m)\u001b[49m\n\u001b[1;32m     16\u001b[0m logging\u001b[38;5;241m.\u001b[39minfo(\u001b[38;5;124m'\u001b[39m\u001b[38;5;124mFinished data converting!\u001b[39m\u001b[38;5;124m'\u001b[39m)\n",
      "File \u001b[0;32m~/c-hopper/data/edr_demo/scripts/adaptor_helper.py:34\u001b[0m, in \u001b[0;36mSaveColorImageAsPng\u001b[0;34m(image_msg_generator, number_of_messages, downsample_rate)\u001b[0m\n\u001b[1;32m     31\u001b[0m     \u001b[38;5;66;03m# png likes bgr so we will leave it as it is\u001b[39;00m\n\u001b[1;32m     32\u001b[0m     cv2\u001b[38;5;241m.\u001b[39mimwrite(filename, image_data_reshaped)\n\u001b[0;32m---> 34\u001b[0m \u001b[43mlogging\u001b[49m\u001b[38;5;241m.\u001b[39minfo(\u001b[38;5;124m'\u001b[39m\u001b[38;5;124mConverted the camera data!\u001b[39m\u001b[38;5;124m'\u001b[39m)\n\u001b[1;32m     35\u001b[0m \u001b[38;5;28;01mreturn\u001b[39;00m color_image_data\n",
      "\u001b[0;31mNameError\u001b[0m: name 'logging' is not defined"
     ]
    }
   ],
   "source": [
    "bag_file_path = '/home/jpdemir/c-hopper/data/edr_demo/predemo_drone_flying_and_taking_measurement_124115/oakd_ouster_vn100.bag'\n",
    "bag = rosbag.Bag(bag_file_path, \"r\")\n",
    "\n",
    "print(bag.get_type_and_topic_info().topics)\n",
    "\n",
    "color_image_messages = bag.read_messages(topics=['/color/video/image'])\n",
    "n_images = bag.get_message_count(topic_filters=[\"/color/video/image\"])\n",
    "image_downsample_rate = 1\n",
    "\n",
    "color_camera_info_messages = bag.read_messages(topics=['/color/video/camera_info'])\n",
    "_, camera_info, camera_info_t = next(color_camera_info_messages)\n",
    "     \n",
    "logging.info('Loaded the data!')\n",
    "image_data = SaveColorImageAsPng(color_image_messages, int(n_images*1/6), image_downsample_rate)\n",
    "\n",
    "logging.info('Finished data converting!')"
   ]
  },
  {
   "cell_type": "code",
   "execution_count": 3,
   "id": "fe20727b",
   "metadata": {},
   "outputs": [
    {
     "data": {
      "text/plain": [
       "header: \n",
       "  seq: 0\n",
       "  stamp: \n",
       "    secs: 1661258484\n",
       "    nsecs: 369285391\n",
       "  frame_id: \"oak_rgb_camera_optical_frame\"\n",
       "height: 1080\n",
       "width: 1920\n",
       "distortion_model: \"rational_polynomial\"\n",
       "d: [25.663156509399414, -218.04647827148438, 0.00047676885151304305, -0.00021448465122375637, 620.961181640625, 25.17365264892578, -214.8468475341797, 611.5280151367188]\n",
       "k: [1549.841796875, 0.0, 935.3917846679688, 0.0, 1549.841796875, 552.15234375, 0.0, 0.0, 1.0]\n",
       "r: [1.0, 0.0, 0.0, 0.0, 1.0, 0.0, 0.0, 0.0, 1.0]\n",
       "p: [1549.841796875, 0.0, 935.3917846679688, 0.0, 0.0, 1549.841796875, 552.15234375, 0.0, 0.0, 0.0, 1.0, 0.0]\n",
       "binning_x: 0\n",
       "binning_y: 0\n",
       "roi: \n",
       "  x_offset: 0\n",
       "  y_offset: 0\n",
       "  height: 0\n",
       "  width: 0\n",
       "  do_rectify: False"
      ]
     },
     "execution_count": 3,
     "metadata": {},
     "output_type": "execute_result"
    }
   ],
   "source": [
    "camera_info"
   ]
  },
  {
   "cell_type": "code",
   "execution_count": 16,
   "id": "837d2f00",
   "metadata": {},
   "outputs": [],
   "source": [
    "import cv2\n",
    "import numpy as np\n",
    "import os\n",
    "\n",
    "image_save_dir = '/home/jpdemir/c-hopper/data/edr_demo/image_data'\n",
    "\n",
    "# Change the current directory \n",
    "# to specified directory \n",
    "os.chdir(image_save_dir)\n",
    "\n",
    "for i in range(len(image_data)):\n",
    "    filename = 'rgb_' + str(i)+'.png'    \n",
    "    image = image_data[i][1][:,:,::-1]\n",
    "    cv2.imwrite(filename, image)"
   ]
  },
  {
   "cell_type": "code",
   "execution_count": 13,
   "id": "264a3232",
   "metadata": {},
   "outputs": [
    {
     "data": {
      "text/plain": [
       "6371"
      ]
     },
     "execution_count": 13,
     "metadata": {},
     "output_type": "execute_result"
    }
   ],
   "source": [
    "n_images"
   ]
  },
  {
   "cell_type": "code",
   "execution_count": 14,
   "id": "e3880f5c",
   "metadata": {},
   "outputs": [
    {
     "data": {
      "text/plain": [
       "1062"
      ]
     },
     "execution_count": 14,
     "metadata": {},
     "output_type": "execute_result"
    }
   ],
   "source": [
    "len(image_data)"
   ]
  },
  {
   "cell_type": "markdown",
   "id": "8a0adfe2-e549-47b0-beee-33d1d0781623",
   "metadata": {},
   "source": [
    "# Using rosbag2 parser\n",
    "\n",
    "https://ternaris.gitlab.io/rosbags/\n",
    "- usage for rosbag2: https://gitlab.com/ternaris/rosbags/-/blob/master/tests/test_reader.py\n",
    "- see https://gitlab.com/ternaris/rosbags/-/blob/master/tests/test_reader.py for usage"
   ]
  },
  {
   "cell_type": "code",
   "execution_count": 3,
   "id": "0c74dac5-22b7-4a68-a641-daccf5836f64",
   "metadata": {},
   "outputs": [],
   "source": [
    "from rosbags.rosbag2 import Reader\n",
    "from rosbags.serde import deserialize_cdr\n",
    "\n",
    "import numpy as np\n",
    "import cv2\n",
    "import matplotlib.pyplot as plt\n",
    "from tqdm import tqdm\n",
    "\n",
    "import os.path"
   ]
  },
  {
   "cell_type": "code",
   "execution_count": 10,
   "id": "62001d7e-6d4e-44f1-9e78-795508029928",
   "metadata": {},
   "outputs": [
    {
     "name": "stdout",
     "output_type": "stream",
     "text": [
      "Connections available in bag:\n",
      "- Connection(id=1, topic='/points', msgtype='sensor_msgs/msg/PointCloud2', msgdef='', md5sum='', msgcount=2794, ext=ConnectionExtRosbag2(serialization_format='cdr', offered_qos_profiles=''), owner=<rosbags.rosbag2.reader.Reader object at 0x7f7e8cad3220>)\n",
      "\n",
      "- Connection(id=2, topic='/color/video/image', msgtype='sensor_msgs/msg/Image', msgdef='', md5sum='', msgcount=2402, ext=ConnectionExtRosbag2(serialization_format='cdr', offered_qos_profiles=''), owner=<rosbags.rosbag2.reader.Reader object at 0x7f7e8cad3220>)\n",
      "\n",
      "- Connection(id=3, topic='/stereo/depth', msgtype='sensor_msgs/msg/Image', msgdef='', md5sum='', msgcount=1853, ext=ConnectionExtRosbag2(serialization_format='cdr', offered_qos_profiles=''), owner=<rosbags.rosbag2.reader.Reader object at 0x7f7e8cad3220>)\n",
      "\n",
      "- Connection(id=4, topic='/stereo/camera_info', msgtype='sensor_msgs/msg/CameraInfo', msgdef='', md5sum='', msgcount=257, ext=ConnectionExtRosbag2(serialization_format='cdr', offered_qos_profiles=''), owner=<rosbags.rosbag2.reader.Reader object at 0x7f7e8cad3220>)\n",
      "\n",
      "- Connection(id=5, topic='/color/video/camera_info', msgtype='sensor_msgs/msg/CameraInfo', msgdef='', md5sum='', msgcount=8485, ext=ConnectionExtRosbag2(serialization_format='cdr', offered_qos_profiles=''), owner=<rosbags.rosbag2.reader.Reader object at 0x7f7e8cad3220>)\n",
      "\n",
      "- Connection(id=6, topic='/vn100_imu', msgtype='sensor_msgs/msg/Imu', msgdef='', md5sum='', msgcount=2551, ext=ConnectionExtRosbag2(serialization_format='cdr', offered_qos_profiles=''), owner=<rosbags.rosbag2.reader.Reader object at 0x7f7e8cad3220>)\n"
     ]
    },
    {
     "name": "stderr",
     "output_type": "stream",
     "text": [
      "  0%|                                                                                                              | 0/2402 [00:00<?, ?it/s]\n"
     ]
    }
   ],
   "source": [
    "img_topic_name = \"/color/video/image\"\n",
    "camera_info_topic_name = '/color/video/camera_info'\n",
    "\n",
    "# rosbag_path = \"/media/luye/Gorgonzola/reifly/predemo_drone_flying_and_taking_measurement_124115/handheld_pod_bag\"\n",
    "# output_path = \"/home/luye/Documents/Reifly/EDR-demo/predemo_drone_flying_and_taking_measurement_124115\"\n",
    "\n",
    "rosbag_path = \"/media/luye/nvme-ssd-1T/Datasets/EDR-demo/20220823_124115_drone_flying/handheld_pod_bag\"\n",
    "output_path = \"/media/luye/nvme-ssd-1T/Datasets/EDR-demo/20220823_124115_drone_flying/color_images\"\n",
    "\n",
    "# create reader instance and open for reading\n",
    "i = 0\n",
    "with Reader(rosbag_path) as reader:\n",
    "    print(\"Connections available in bag:\")\n",
    "    print(\"\\n\\n\".join([f\"- {c}\" for c in reader.connections]))\n",
    "    \n",
    "    topics_to_conn = {c.topic: c for c in reader.connections}\n",
    "    img_conn = topics_to_conn[img_topic_name]\n",
    "    # connections = [x for x in reader.connections if x.topic == '/magn']\n",
    "    \n",
    "    for connection, timestamp, rawdata in tqdm(reader.messages([img_conn]), total=img_conn.msgcount):\n",
    "        msg = deserialize_cdr(rawdata, connection.msgtype)\n",
    "        \n",
    "        image_data = np.frombuffer(msg.data, np.uint8)\n",
    "        image_data_reshaped = np.reshape(image_data, (msg.height, msg.width, 3))\n",
    "        \n",
    "        break\n",
    "        \n",
    "        # png likes bgr so we will leave it as it is\n",
    "        topic_clean = img_topic_name.replace('/', '_')\n",
    "        filename = os.path.join(output_path, topic_clean + f\"_{i}.png\")\n",
    "        cv2.imwrite(filename, image_data_reshaped)\n",
    "        \n",
    "        i += 1\n",
    "        "
   ]
  },
  {
   "cell_type": "code",
   "execution_count": 16,
   "id": "fdda1ec1-cfde-4711-b014-6cb92f07311f",
   "metadata": {},
   "outputs": [
    {
     "data": {
      "text/plain": [
       "(6220800,)"
      ]
     },
     "execution_count": 16,
     "metadata": {},
     "output_type": "execute_result"
    }
   ],
   "source": [
    "msg.data.shape"
   ]
  },
  {
   "cell_type": "code",
   "execution_count": null,
   "id": "0f4338ce-7b7d-4945-bdad-6b18b53661ac",
   "metadata": {},
   "outputs": [],
   "source": [
    "\n",
    "image_data = np.frombuffer(msg.data, np.uint8)\n",
    "image_data_bgr = np.reshape(image_data, (msg.height, msg.width, 3))\n",
    "image_data_rgb = image_data_bgr[:, :, ::-1]\n",
    "plt.imshow(image_data_rgb)"
   ]
  },
  {
   "cell_type": "code",
   "execution_count": 27,
   "id": "9f7cd115-aae4-49a7-a583-402d05ebec54",
   "metadata": {},
   "outputs": [
    {
     "data": {
      "text/plain": [
       "Connection(id=3, topic='/color/video/image', msgtype='sensor_msgs/msg/Image', msgdef='', md5sum='', msgcount=6371, ext=ConnectionExtRosbag2(serialization_format='cdr', offered_qos_profiles=''), owner=<rosbags.rosbag2.reader.Reader object at 0x7f0fe5484940>)"
      ]
     },
     "execution_count": 27,
     "metadata": {},
     "output_type": "execute_result"
    }
   ],
   "source": [
    "img_conn"
   ]
  },
  {
   "cell_type": "code",
   "execution_count": 28,
   "id": "0cf26ac5-7229-4d82-afde-7af3c6abeb3b",
   "metadata": {},
   "outputs": [
    {
     "data": {
      "text/plain": [
       "6371"
      ]
     },
     "execution_count": 28,
     "metadata": {},
     "output_type": "execute_result"
    }
   ],
   "source": [
    "img_conn.msgcount\n"
   ]
  },
  {
   "cell_type": "code",
   "execution_count": 29,
   "id": "69472163-9eda-476b-a5fd-d0c174f8240b",
   "metadata": {},
   "outputs": [
    {
     "data": {
      "text/plain": [
       "std_msgs__msg__Header(stamp=builtin_interfaces__msg__Time(sec=1661258493, nanosec=838374494, __msgtype__='builtin_interfaces/msg/Time'), frame_id='oak_rgb_camera_optical_frame', __msgtype__='std_msgs/msg/Header')"
      ]
     },
     "execution_count": 29,
     "metadata": {},
     "output_type": "execute_result"
    }
   ],
   "source": [
    "msg.header"
   ]
  },
  {
   "cell_type": "code",
   "execution_count": 32,
   "id": "89c8ab3b-6bcf-493b-9e06-9bc9ba65bf9e",
   "metadata": {},
   "outputs": [
    {
     "data": {
      "text/plain": [
       "1661258493"
      ]
     },
     "execution_count": 32,
     "metadata": {},
     "output_type": "execute_result"
    }
   ],
   "source": [
    "msg.header.stamp.sec"
   ]
  },
  {
   "cell_type": "markdown",
   "id": "5f6a48cb-e002-416f-9a9a-bab4aac1d094",
   "metadata": {},
   "source": [
    "## Get Duration"
   ]
  },
  {
   "cell_type": "code",
   "execution_count": 12,
   "id": "637541ac-eb39-4fc9-8640-76f2ba68a8d3",
   "metadata": {},
   "outputs": [
    {
     "name": "stdout",
     "output_type": "stream",
     "text": [
      "333090819777\n",
      "1661258483009571368\n",
      "1661258816100391145\n",
      "18342\n",
      "Approximate duration of recording is: 0:05:20\n",
      "Duration according to metadata is: 0:05:20\n",
      "Recording start time is 2022-08-23 13:41:23\n"
     ]
    }
   ],
   "source": [
    "# Get duration\n",
    "from datetime import time, timedelta, datetime\n",
    "\n",
    "timestamps = []\n",
    "with Reader(rosbag_path) as reader:\n",
    "    print(reader.duration)\n",
    "    print(reader.start_time)\n",
    "    print(reader.end_time)\n",
    "    print(reader.message_count)\n",
    "\n",
    "    \n",
    "    topics_to_conn = {c.topic: c for c in reader.connections}\n",
    "    img_conn = topics_to_conn[img_topic_name]\n",
    "    \n",
    "    gen1 = reader.messages([img_conn], start=reader.start_time)\n",
    "    connection, timestamp, rawdata = next(gen1)\n",
    "    stamp1 = timestamp\n",
    "    msg1 = deserialize_cdr(rawdata, connection.msgtype)\n",
    "    sec1 = msg1.header.stamp.sec\n",
    "    \n",
    "    gen2 = reader.messages([img_conn], start=reader.end_time- 10 * 1e9, stop=reader.end_time)\n",
    "    connection, timestamp, rawdata = next(gen2)\n",
    "    stamp2 = timestamp\n",
    "    msg2 = deserialize_cdr(rawdata, connection.msgtype)\n",
    "    sec2 = msg2.header.stamp.sec\n",
    "    \n",
    "        \n",
    "        \n",
    "dur_approx = timedelta(seconds=sec2-sec1)\n",
    "print(f\"Approximate duration of recording is: {dur_approx}\")\n",
    "\n",
    "dur_metadata = timedelta(seconds=int(reader.duration*1e-9))\n",
    "print(f\"Duration according to metadata is: {dur_approx}\")\n",
    "\n",
    "start_time = datetime.fromtimestamp(int(reader.start_time*1e-9))\n",
    "print(f\"Recording start time is {start_time}\")"
   ]
  },
  {
   "cell_type": "code",
   "execution_count": 7,
   "id": "3900f2e0-38f7-42b8-949b-b6fc079f844e",
   "metadata": {},
   "outputs": [
    {
     "data": {
      "text/plain": [
       "1661258485259207400"
      ]
     },
     "execution_count": 7,
     "metadata": {},
     "output_type": "execute_result"
    }
   ],
   "source": [
    "reader.start_time\n",
    "stamp1"
   ]
  },
  {
   "cell_type": "markdown",
   "id": "0d9fd3bd-12ba-4afd-a46e-fb35ae078fc1",
   "metadata": {},
   "source": [
    "## Plot samples\n",
    "\n",
    "Save sample image every 30 sec"
   ]
  },
  {
   "cell_type": "code",
   "execution_count": 70,
   "id": "7b8b6af0-25f5-4e8f-9cb4-bcec6b7b5a2c",
   "metadata": {},
   "outputs": [],
   "source": [
    "from tqdm import tqdm\n",
    "from datetime import time, timedelta, datetime\n"
   ]
  },
  {
   "cell_type": "code",
   "execution_count": 8,
   "id": "95621eba-340d-4cfa-b732-148833c4c3d5",
   "metadata": {},
   "outputs": [
    {
     "name": "stdout",
     "output_type": "stream",
     "text": [
      "Step size is 36 images for 5 seconds.\n"
     ]
    },
    {
     "name": "stderr",
     "output_type": "stream",
     "text": [
      "100%|██████████████████████████████████████████████████████████████████████████████████████████████████| 2402/2402 [00:23<00:00, 103.84it/s]\n"
     ]
    }
   ],
   "source": [
    "timestamps_header = []\n",
    "timestamps_message = []\n",
    "images = []\n",
    "\n",
    "sample_period_sec = 5\n",
    "step = int(img_conn.msgcount / dur_metadata.total_seconds() * sample_period_sec)\n",
    "print(f\"Step size is {step} images for {sample_period_sec} seconds.\")\n",
    "\n",
    "i = 0\n",
    "with Reader(rosbag_path) as reader:\n",
    "    \n",
    "    topics_to_conn = {c.topic: c for c in reader.connections}\n",
    "    img_conn = topics_to_conn[img_topic_name]\n",
    "    # connections = [x for x in reader.connections if x.topic == '/magn']\n",
    "    \n",
    "    for connection, timestamp, rawdata in tqdm(reader.messages([img_conn]), total=img_conn.msgcount):\n",
    "        if (i % step) == 0:\n",
    "            msg = deserialize_cdr(rawdata, connection.msgtype)\n",
    "            image_data = np.frombuffer(msg.data, np.uint8)\n",
    "            image_data_bgr = np.reshape(image_data, (msg.height, msg.width, 3))\n",
    "            \n",
    "            timestamps_header.append(msg.header.stamp)\n",
    "            timestamps_message.append(timestamp)\n",
    "            images.append(image_data_bgr)\n",
    "            \n",
    "        i += 1\n",
    "        # print(\".\", end='')\n",
    "        "
   ]
  },
  {
   "cell_type": "code",
   "execution_count": 9,
   "id": "3d879cac-44ce-4533-974c-893ab5bd1db8",
   "metadata": {},
   "outputs": [
    {
     "data": {
      "text/plain": [
       "67"
      ]
     },
     "execution_count": 9,
     "metadata": {},
     "output_type": "execute_result"
    }
   ],
   "source": [
    "len(images)"
   ]
  },
  {
   "cell_type": "code",
   "execution_count": null,
   "id": "58ccf459-1170-46e4-be1f-fcf5fb9a6bb0",
   "metadata": {},
   "outputs": [],
   "source": [
    "for i, img in enumerate(images):\n",
    "    print(f\"Image header timestamp: {timestamps_header[i]}\")\n",
    "    print(f\"Message timestamps (ns): {timestamps_message[i]}\")\n",
    "    plt.figure()\n",
    "    plt.imshow(img[:, :, ::-1])\n",
    "    plt.suptitle(f\"IMG {i} Timestamps from message: {timestamps_message[i]} ns; header: {timestamps_header[i].sec} s {timestamps_header[i].nanosec} ns\")"
   ]
  },
  {
   "cell_type": "markdown",
   "id": "f96638e0-2533-4731-8072-abac98c67f88",
   "metadata": {},
   "source": [
    "## Save time range to PNG\n",
    "\n",
    "- dataset `/media/luye/nvme-ssd-1T/Datasets/EDR-demo/20220823_124115_drone_flying`\n",
    "    - drone + different camera angles: `13:42:00 - 13:42:09`\n",
    "    - t1 = `1661258520.068707816` seconds UNIX time\n",
    "    - t2 = `1661258530.134524104` seconds UNIX time\n"
   ]
  },
  {
   "cell_type": "code",
   "execution_count": 14,
   "id": "dc7a090c-0f92-4ea6-81b2-d2b8998c1ea0",
   "metadata": {},
   "outputs": [
    {
     "name": "stderr",
     "output_type": "stream",
     "text": [
      " 92%|██████████████████████████████████████████████████████████████████████████████████████████████▍        | 66/72 [00:16<00:01,  4.06it/s]"
     ]
    },
    {
     "name": "stdout",
     "output_type": "stream",
     "text": [
      "Wrote images to /media/luye/nvme-ssd-1T/Datasets/EDR-demo/20220823_124115_drone_flying/measurement_1_images\n"
     ]
    },
    {
     "name": "stderr",
     "output_type": "stream",
     "text": [
      "\n"
     ]
    }
   ],
   "source": [
    "# create reader instance and open for reading\n",
    "\n",
    "# Message timestamps for snipping\n",
    "\n",
    "# ts1 = 1661258654881419624\n",
    "# ts2 = 1661258685611132072\n",
    "\n",
    "# ts1 = reader.start_time\n",
    "# ts2 = reader.end_time\n",
    "\n",
    "ts1 = 1661258520068707816\n",
    "ts2 = 1661258530134524104\n",
    "output_path = \"/media/luye/nvme-ssd-1T/Datasets/EDR-demo/20220823_124115_drone_flying/measurement_1_images\"\n",
    "\n",
    "# sample_period_sec = 5\n",
    "# step = int(img_conn.msgcount / dur_metadata.total_seconds() * sample_period_sec)\n",
    "# print(f\"Step size is {step} images for {sample_period_sec} seconds.\")\n",
    "\n",
    "\n",
    "with Reader(rosbag_path) as reader:\n",
    "   \n",
    "    topics_to_conn = {c.topic: c for c in reader.connections}\n",
    "    img_conn = topics_to_conn[img_topic_name]\n",
    "    \n",
    "    gen = reader.messages([img_conn], start=ts1, stop=ts2)\n",
    "    total = int(img_conn.msgcount * (ts2 - ts1) / reader.duration)\n",
    "    \n",
    "    i = 0\n",
    "    \n",
    "    for connection, timestamp, rawdata in tqdm(gen, total=total):\n",
    "        msg = deserialize_cdr(rawdata, connection.msgtype)\n",
    "        \n",
    "        image_data = np.frombuffer(msg.data, np.uint8)\n",
    "        image_data_reshaped = np.reshape(image_data, (msg.height, msg.width, 3))\n",
    "        \n",
    "        \n",
    "        # png likes bgr so we will leave it as it is\n",
    "        topic_clean = img_topic_name.strip('/').replace('/', '_')\n",
    "        filename = os.path.join(output_path, topic_clean + f\"_t{timestamp}.png\")\n",
    "        cv2.imwrite(filename, image_data_reshaped)\n",
    "        \n",
    "        i += 1\n",
    "        \n",
    "    print(f\"Wrote images to {output_path}\")"
   ]
  },
  {
   "cell_type": "code",
   "execution_count": 15,
   "id": "330a5e13-480d-421a-b720-ded4fdf65369",
   "metadata": {},
   "outputs": [
    {
     "data": {
      "text/plain": [
       "19"
      ]
     },
     "execution_count": 15,
     "metadata": {},
     "output_type": "execute_result"
    }
   ],
   "source": [
    "len('1661258530134524104')"
   ]
  },
  {
   "cell_type": "markdown",
   "id": "810fe66c-6451-4320-8f20-3fa4cfe00809",
   "metadata": {},
   "source": [
    "## Video Conversion\n",
    "\n",
    "See http://wiki.ros.org/rosbag/Tutorials/Exporting%20image%20and%20video%20data#Converting_jpegs_into_an_OGG_Theora_Video\n",
    "\n",
    "Could also be done using GStreamer\n",
    "\n",
    "```sh\n",
    "ffmpeg -framerate 7.21 -i frame%04d.jpg -c:v libx264 -profile:v high -crf 20 -pix_fmt yuv420p output.mp4\n",
    "```\n",
    "\n",
    "If you want to chage the output framerate by interpolating/dropping images: do\n",
    "\n",
    "```sh\n",
    "ffmpeg -framerate <input rate> -i input_%03d.png -r <output_rate> output.mp4\n",
    "```"
   ]
  },
  {
   "cell_type": "code",
   "execution_count": null,
   "id": "cf1452bb-159a-45e5-b959-15e44805e85c",
   "metadata": {},
   "outputs": [],
   "source": []
  }
 ],
 "metadata": {
  "kernelspec": {
   "display_name": "Python 3 (ipykernel)",
   "language": "python",
   "name": "python3"
  },
  "language_info": {
   "codemirror_mode": {
    "name": "ipython",
    "version": 3
   },
   "file_extension": ".py",
   "mimetype": "text/x-python",
   "name": "python",
   "nbconvert_exporter": "python",
   "pygments_lexer": "ipython3",
   "version": "3.8.13"
  }
 },
 "nbformat": 4,
 "nbformat_minor": 5
}
