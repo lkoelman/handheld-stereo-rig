{
 "cells": [
  {
   "cell_type": "code",
   "execution_count": 1,
   "id": "31b9e5d2",
   "metadata": {},
   "outputs": [],
   "source": [
    "# We needed to skip parsing the data first as I was limited with my poor computer RAM \n",
    "from adaptor_helper import SaveColorImageAsPng\n",
    "import rosbag\n",
    "\n",
    "import logging\n",
    "logger = logging.getLogger()\n",
    "logger.setLevel(logging.DEBUG)"
   ]
  },
  {
   "cell_type": "code",
   "execution_count": 2,
   "id": "7b9a36b9",
   "metadata": {},
   "outputs": [],
   "source": [
    "%load_ext autoreload\n",
    "%autoreload 2\n",
    "\n",
    "%reload_ext autoreload"
   ]
  },
  {
   "cell_type": "code",
   "execution_count": 3,
   "id": "e3a2ae0e",
   "metadata": {},
   "outputs": [
    {
     "name": "stderr",
     "output_type": "stream",
     "text": [
      "INFO:root:Loaded the data!\n"
     ]
    },
    {
     "name": "stdout",
     "output_type": "stream",
     "text": [
      "{'/color/video/camera_info': TopicTuple(msg_type='sensor_msgs/CameraInfo', message_count=22151, connections=1, frequency=30.241641611328618), '/color/video/image': TopicTuple(msg_type='sensor_msgs/Image', message_count=6371, connections=1, frequency=18.97321370007396), '/points': TopicTuple(msg_type='sensor_msgs/PointCloud2', message_count=11225, connections=1, frequency=19.47329348267657), '/stereo/camera_info': TopicTuple(msg_type='sensor_msgs/CameraInfo', message_count=686, connections=1, frequency=0.8607539033817337), '/stereo/depth': TopicTuple(msg_type='sensor_msgs/Image', message_count=4863, connections=1, frequency=6.140641836495666), '/vn100_imu': TopicTuple(msg_type='sensor_msgs/Imu', message_count=6575, connections=1, frequency=8.010228821174195)}\n"
     ]
    },
    {
     "name": "stderr",
     "output_type": "stream",
     "text": [
      "100%|███████████████████████████████████████████████████████████████████████████████| 1061/1061 [01:14<00:00, 14.17it/s]\n"
     ]
    },
    {
     "ename": "NameError",
     "evalue": "name 'logging' is not defined",
     "output_type": "error",
     "traceback": [
      "\u001b[0;31m---------------------------------------------------------------------------\u001b[0m",
      "\u001b[0;31mNameError\u001b[0m                                 Traceback (most recent call last)",
      "Input \u001b[0;32mIn [3]\u001b[0m, in \u001b[0;36m<cell line: 14>\u001b[0;34m()\u001b[0m\n\u001b[1;32m     11\u001b[0m _, camera_info, camera_info_t \u001b[38;5;241m=\u001b[39m \u001b[38;5;28mnext\u001b[39m(color_camera_info_messages)\n\u001b[1;32m     13\u001b[0m logging\u001b[38;5;241m.\u001b[39minfo(\u001b[38;5;124m'\u001b[39m\u001b[38;5;124mLoaded the data!\u001b[39m\u001b[38;5;124m'\u001b[39m)\n\u001b[0;32m---> 14\u001b[0m image_data \u001b[38;5;241m=\u001b[39m \u001b[43mSaveColorImageAsPng\u001b[49m\u001b[43m(\u001b[49m\u001b[43mcolor_image_messages\u001b[49m\u001b[43m,\u001b[49m\u001b[43m \u001b[49m\u001b[38;5;28;43mint\u001b[39;49m\u001b[43m(\u001b[49m\u001b[43mn_images\u001b[49m\u001b[38;5;241;43m*\u001b[39;49m\u001b[38;5;241;43m1\u001b[39;49m\u001b[38;5;241;43m/\u001b[39;49m\u001b[38;5;241;43m6\u001b[39;49m\u001b[43m)\u001b[49m\u001b[43m,\u001b[49m\u001b[43m \u001b[49m\u001b[43mimage_downsample_rate\u001b[49m\u001b[43m)\u001b[49m\n\u001b[1;32m     16\u001b[0m logging\u001b[38;5;241m.\u001b[39minfo(\u001b[38;5;124m'\u001b[39m\u001b[38;5;124mFinished data converting!\u001b[39m\u001b[38;5;124m'\u001b[39m)\n",
      "File \u001b[0;32m~/c-hopper/data/edr_demo/scripts/adaptor_helper.py:34\u001b[0m, in \u001b[0;36mSaveColorImageAsPng\u001b[0;34m(image_msg_generator, number_of_messages, downsample_rate)\u001b[0m\n\u001b[1;32m     31\u001b[0m     \u001b[38;5;66;03m# png likes bgr so we will leave it as it is\u001b[39;00m\n\u001b[1;32m     32\u001b[0m     cv2\u001b[38;5;241m.\u001b[39mimwrite(filename, image_data_reshaped)\n\u001b[0;32m---> 34\u001b[0m \u001b[43mlogging\u001b[49m\u001b[38;5;241m.\u001b[39minfo(\u001b[38;5;124m'\u001b[39m\u001b[38;5;124mConverted the camera data!\u001b[39m\u001b[38;5;124m'\u001b[39m)\n\u001b[1;32m     35\u001b[0m \u001b[38;5;28;01mreturn\u001b[39;00m color_image_data\n",
      "\u001b[0;31mNameError\u001b[0m: name 'logging' is not defined"
     ]
    }
   ],
   "source": [
    "bag_file_path = '/home/jpdemir/c-hopper/data/edr_demo/predemo_drone_flying_and_taking_measurement_124115/oakd_ouster_vn100.bag'\n",
    "bag = rosbag.Bag(bag_file_path, \"r\")\n",
    "\n",
    "print(bag.get_type_and_topic_info().topics)\n",
    "\n",
    "color_image_messages = bag.read_messages(topics=['/color/video/image'])\n",
    "n_images = bag.get_message_count(topic_filters=[\"/color/video/image\"])\n",
    "image_downsample_rate = 1\n",
    "\n",
    "color_camera_info_messages = bag.read_messages(topics=['/color/video/camera_info'])\n",
    "_, camera_info, camera_info_t = next(color_camera_info_messages)\n",
    "     \n",
    "logging.info('Loaded the data!')\n",
    "image_data = SaveColorImageAsPng(color_image_messages, int(n_images*1/6), image_downsample_rate)\n",
    "\n",
    "logging.info('Finished data converting!')"
   ]
  },
  {
   "cell_type": "code",
   "execution_count": 3,
   "id": "fe20727b",
   "metadata": {},
   "outputs": [
    {
     "data": {
      "text/plain": [
       "header: \n",
       "  seq: 0\n",
       "  stamp: \n",
       "    secs: 1661258484\n",
       "    nsecs: 369285391\n",
       "  frame_id: \"oak_rgb_camera_optical_frame\"\n",
       "height: 1080\n",
       "width: 1920\n",
       "distortion_model: \"rational_polynomial\"\n",
       "d: [25.663156509399414, -218.04647827148438, 0.00047676885151304305, -0.00021448465122375637, 620.961181640625, 25.17365264892578, -214.8468475341797, 611.5280151367188]\n",
       "k: [1549.841796875, 0.0, 935.3917846679688, 0.0, 1549.841796875, 552.15234375, 0.0, 0.0, 1.0]\n",
       "r: [1.0, 0.0, 0.0, 0.0, 1.0, 0.0, 0.0, 0.0, 1.0]\n",
       "p: [1549.841796875, 0.0, 935.3917846679688, 0.0, 0.0, 1549.841796875, 552.15234375, 0.0, 0.0, 0.0, 1.0, 0.0]\n",
       "binning_x: 0\n",
       "binning_y: 0\n",
       "roi: \n",
       "  x_offset: 0\n",
       "  y_offset: 0\n",
       "  height: 0\n",
       "  width: 0\n",
       "  do_rectify: False"
      ]
     },
     "execution_count": 3,
     "metadata": {},
     "output_type": "execute_result"
    }
   ],
   "source": [
    "camera_info"
   ]
  },
  {
   "cell_type": "code",
   "execution_count": 16,
   "id": "837d2f00",
   "metadata": {},
   "outputs": [],
   "source": [
    "import cv2\n",
    "import numpy as np\n",
    "import os\n",
    "\n",
    "image_save_dir = '/home/jpdemir/c-hopper/data/edr_demo/image_data'\n",
    "\n",
    "# Change the current directory \n",
    "# to specified directory \n",
    "os.chdir(image_save_dir)\n",
    "\n",
    "for i in range(len(image_data)):\n",
    "    filename = 'rgb_' + str(i)+'.png'    \n",
    "    image = image_data[i][1][:,:,::-1]\n",
    "    cv2.imwrite(filename, image)"
   ]
  },
  {
   "cell_type": "code",
   "execution_count": 13,
   "id": "264a3232",
   "metadata": {},
   "outputs": [
    {
     "data": {
      "text/plain": [
       "6371"
      ]
     },
     "execution_count": 13,
     "metadata": {},
     "output_type": "execute_result"
    }
   ],
   "source": [
    "n_images"
   ]
  },
  {
   "cell_type": "code",
   "execution_count": 14,
   "id": "e3880f5c",
   "metadata": {},
   "outputs": [
    {
     "data": {
      "text/plain": [
       "1062"
      ]
     },
     "execution_count": 14,
     "metadata": {},
     "output_type": "execute_result"
    }
   ],
   "source": [
    "len(image_data)"
   ]
  },
  {
   "cell_type": "code",
   "execution_count": null,
   "id": "8bd220e9",
   "metadata": {},
   "outputs": [],
   "source": []
  }
 ],
 "metadata": {
  "kernelspec": {
   "display_name": "Python 3 (ipykernel)",
   "language": "python",
   "name": "python3"
  },
  "language_info": {
   "codemirror_mode": {
    "name": "ipython",
    "version": 3
   },
   "file_extension": ".py",
   "mimetype": "text/x-python",
   "name": "python",
   "nbconvert_exporter": "python",
   "pygments_lexer": "ipython3",
   "version": "3.8.5"
  }
 },
 "nbformat": 4,
 "nbformat_minor": 5
}
